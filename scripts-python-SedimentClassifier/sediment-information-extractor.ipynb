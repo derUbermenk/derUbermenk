{
 "cells": [
  {
   "cell_type": "code",
   "execution_count": 122,
   "id": "welsh-ecology",
   "metadata": {},
   "outputs": [],
   "source": [
    "# define a class for a sediment\n",
    "# it is initialized with l, s, m \n",
    "\n",
    "import math\n",
    "import matplotlib.pyplot as plt\n",
    "import numpy as np\n",
    "import pandas as pd\n",
    "        \n",
    "\n",
    "def cm_to_mm(cm):\n",
    "    return cm * 10\n",
    "\n",
    "class Sediment:\n",
    "    def __init__(self, l, s, i, processed_data):\n",
    "        '''\n",
    "        defines a sediment based on its\n",
    "            dimensions\n",
    "        \n",
    "        l :: long axis\n",
    "        s :: short axis\n",
    "        i :: intermediate axis\n",
    "        \n",
    "        '''\n",
    "        l = cm_to_mm(l)\n",
    "        s = cm_to_mm(s)\n",
    "        i = cm_to_mm(i)\n",
    "        \n",
    "        self.long_axis = l\n",
    "        self.short_axis = s\n",
    "        self.intermediate_axis = i\n",
    "        self.average_diameter = round(sum([l,s,i])/3,2)\n",
    "        self.phi = round(-math.log2(self.average_diameter),0)\n",
    "        self.descriptive_term = self.determine_sediment_type(self.phi)\n",
    "        self.sphericity = round(self.calculate_sphericity(l,s,i),2)\n",
    "        self.elongation_ratio = round(i/l,2)\n",
    "        self.flatness_ratio = round(s/i,2)\n",
    "        self.shape = self.sediment_shape(self.flatness_ratio, self.elongation_ratio)\n",
    "        \n",
    "        # add the information to processed data\n",
    "        self.add_information()\n",
    "        \n",
    "    def calculate_sphericity(self, l, s, i):\n",
    "        s_squared = math.pow(s,2)\n",
    "        li = l * i\n",
    "        term = s_squared/li\n",
    "        \n",
    "        sphericity = math.pow(term,1/3)\n",
    "        return sphericity\n",
    "    \n",
    "    def determine_sediment_type(self, phi_value):\n",
    "        if phi_value <= -8:\n",
    "            sed_type = 'Boulder'\n",
    "        elif phi_value <= -4:\n",
    "            sed_type = 'Cobbles'\n",
    "        elif phi_value <= -2:\n",
    "            sed_type = 'Pebble'\n",
    "        elif phi_value <= -1:\n",
    "            sed_type = 'Granule'\n",
    "        else:\n",
    "            sed_type = 'Unbounded by Classification'\n",
    "        \n",
    "        return sed_type\n",
    "    \n",
    "    def sediment_shape(self, flatness_ratio, elongation_ratio):\n",
    "        shape = ''\n",
    "        if flatness_ratio < 0.67:\n",
    "            if elongation_ratio < 0.67:\n",
    "                shape = 'Bladed'\n",
    "            else:\n",
    "                shape = 'Oblate'\n",
    "        else:\n",
    "            if elongation_ratio < 0.67:\n",
    "                shape = 'Rod'\n",
    "            else:\n",
    "                shape = 'Equant'\n",
    "        return shape\n",
    "    \n",
    "    def add_information(self):\n",
    "        sediment_info = list(self.__dict__.values())\n",
    "        processed_data_keys = list(processed_data.keys())\n",
    "        \n",
    "        for info in zip(processed_data_keys, sediment_info):\n",
    "            processed_data[info[0]].append(info[1])\n",
    "            \n",
    "            \n",
    "        "
   ]
  },
  {
   "cell_type": "code",
   "execution_count": 96,
   "id": "preceding-share",
   "metadata": {},
   "outputs": [],
   "source": [
    "# data manipulation\n",
    "sediment_data = {\n",
    "    'sample #':[1,2,3,4,5,6,7,8,9,10],\n",
    "    'l':[25, 43, 28, 15, 25, 15, 15, 13, 3, 2],\n",
    "    's':[5, 4, 7, 5, 3, 3, 6, 3, 2, 1],\n",
    "    'i':[16, 17, 10, 10, 15, 5, 9, 6, 1, 1]   \n",
    "}\n",
    "\n",
    "sediment_frame = pd.DataFrame(sediment_data, index=sediment_data['sample #'])\n",
    "sediment_dimensions = sediment_frame.to_numpy()"
   ]
  },
  {
   "cell_type": "code",
   "execution_count": 97,
   "id": "historical-cassette",
   "metadata": {},
   "outputs": [],
   "source": [
    "processed_data = {\n",
    "    'l':[],\n",
    "    's':[],\n",
    "    'i':[],\n",
    "    'D':[],\n",
    "    'phi':[],\n",
    "    'descriptive_term':[],\n",
    "    'sphericity':[],\n",
    "    'elongation ratio':[],\n",
    "    'flatness ratio':[],\n",
    "    'shape':[]\n",
    "}\n",
    "\n",
    "for dimension in sediment_dimensions:\n",
    "    Sediment(dimension[1], dimension[2], dimension[3], processed_data)"
   ]
  },
  {
   "cell_type": "code",
   "execution_count": 98,
   "id": "recovered-flower",
   "metadata": {},
   "outputs": [
    {
     "data": {
      "text/plain": [
       "{'l': [250, 430, 280, 150, 250, 150, 150, 130, 30, 20],\n",
       " 's': [50, 40, 70, 50, 30, 30, 60, 30, 20, 10],\n",
       " 'i': [160, 170, 100, 100, 150, 50, 90, 60, 10, 10],\n",
       " 'D': [153.33, 213.33, 150.0, 100.0, 143.33, 76.67, 100.0, 73.33, 20.0, 13.33],\n",
       " 'phi': [-7.0, -8.0, -7.0, -7.0, -7.0, -6.0, -7.0, -6.0, -4.0, -4.0],\n",
       " 'descriptive_term': ['Cobbles',\n",
       "  'Boulder',\n",
       "  'Cobbles',\n",
       "  'Cobbles',\n",
       "  'Cobbles',\n",
       "  'Cobbles',\n",
       "  'Cobbles',\n",
       "  'Cobbles',\n",
       "  'Cobbles',\n",
       "  'Cobbles'],\n",
       " 'sphericity': [0.4, 0.28, 0.56, 0.55, 0.29, 0.49, 0.64, 0.49, 1.1, 0.79],\n",
       " 'elongation ratio': [0.64, 0.4, 0.36, 0.67, 0.6, 0.33, 0.6, 0.46, 0.33, 0.5],\n",
       " 'flatness ratio': [0.31, 0.24, 0.7, 0.5, 0.2, 0.6, 0.67, 0.5, 2.0, 1.0],\n",
       " 'shape': ['Bladed',\n",
       "  'Bladed',\n",
       "  'Rod',\n",
       "  'Oblate',\n",
       "  'Bladed',\n",
       "  'Bladed',\n",
       "  'Rod',\n",
       "  'Bladed',\n",
       "  'Rod',\n",
       "  'Rod']}"
      ]
     },
     "execution_count": 98,
     "metadata": {},
     "output_type": "execute_result"
    }
   ],
   "source": [
    "processed_data"
   ]
  },
  {
   "cell_type": "code",
   "execution_count": 117,
   "id": "drawn-roads",
   "metadata": {},
   "outputs": [],
   "source": [
    "sediment_data_processed= pd.DataFrame(data=processed_data, index=sediment_data['sample #'])"
   ]
  },
  {
   "cell_type": "code",
   "execution_count": 243,
   "id": "afraid-christmas",
   "metadata": {},
   "outputs": [],
   "source": [
    "# save data\n",
    "sediment_data_processed.to_csv('Processed-Sediment-Data.csv')"
   ]
  },
  {
   "cell_type": "code",
   "execution_count": 120,
   "id": "further-parliament",
   "metadata": {},
   "outputs": [],
   "source": [
    "unique_shapes = list(sediment_data_processed['shape'].unique())\n",
    "\n",
    "sorted_sediment_data = []\n",
    "for shape in unique_shapes:\n",
    "    # create a new data frame containing new data for plotting\n",
    "    sorted_data = sediment_data_processed[sediment_data_processed['shape'] == shape][['elongation ratio','flatness ratio']]\n",
    "    sorted_sediment_data.append(sorted_data)\n",
    "    "
   ]
  },
  {
   "cell_type": "code",
   "execution_count": 121,
   "id": "fiscal-allowance",
   "metadata": {},
   "outputs": [
    {
     "data": {
      "text/plain": [
       "[   elongation ratio  flatness ratio\n",
       " 1              0.64            0.31\n",
       " 2              0.40            0.24\n",
       " 5              0.60            0.20\n",
       " 6              0.33            0.60\n",
       " 8              0.46            0.50,\n",
       "     elongation ratio  flatness ratio\n",
       " 3               0.36            0.70\n",
       " 7               0.60            0.67\n",
       " 9               0.33            2.00\n",
       " 10              0.50            1.00,\n",
       "    elongation ratio  flatness ratio\n",
       " 4              0.67             0.5]"
      ]
     },
     "execution_count": 121,
     "metadata": {},
     "output_type": "execute_result"
    }
   ],
   "source": [
    "sorted_sediment_data"
   ]
  },
  {
   "cell_type": "code",
   "execution_count": 242,
   "id": "determined-wesley",
   "metadata": {},
   "outputs": [
    {
     "data": {
      "image/png": "[encoded data removed]",
      "text/plain": [
       "<Figure size 864x576 with 1 Axes>"
      ]
     },
     "metadata": {
      "needs_background": "light"
     },
     "output_type": "display_data"
    }
   ],
   "source": [
    "# generate the plot\n",
    "fig, axs = plt.subplots(nrows=1,ncols=1,figsize=(12,8))\n",
    "\n",
    "axs.set_facecolor('whitesmoke')\n",
    "\n",
    "max_x = max(sediment_data_processed['flatness ratio'])\n",
    "max_y = max(sediment_data_processed['elongation ratio'])\n",
    "\n",
    "# draw the lines\n",
    "axs.axhline(y=0.67, xmax=max_x, c='black', alpha=0.3)\n",
    "axs.axvline(x=0.67, ymax=1, c='black', alpha=0.3)\n",
    "\n",
    "# draw the text labels of the classification fields\n",
    "axs.text(0.01, 0.95, 'Oblate', fontsize=15)\n",
    "axs.text(0.01, 0.01, 'Bladed', fontsize=15)\n",
    "axs.text(0.95, 0.95, 'Equant', fontsize=15)\n",
    "axs.text(0.99, 0.01, 'Rod', fontsize=15)\n",
    "\n",
    "\n",
    "# plot the data\n",
    "# define constants\n",
    "plot_type = 'scatter'\n",
    "x = 'flatness ratio'\n",
    "y = 'elongation ratio'\n",
    "point_size = 100\n",
    "\n",
    "sorted_sediment_data[0].plot(\n",
    "    ax=axs,\n",
    "    kind=plot_type,\n",
    "    x=x,\n",
    "    y=y,\n",
    "    c='mediumseagreen',\n",
    "    s=point_size\n",
    ")\n",
    "\n",
    "sorted_sediment_data[1].plot(\n",
    "    ax=axs,\n",
    "    kind=plot_type,\n",
    "    x=x,\n",
    "    y=y,\n",
    "    c='indianred',\n",
    "    s=point_size\n",
    ")\n",
    "\n",
    "sorted_sediment_data[2].plot(\n",
    "    ax=axs,\n",
    "    kind=plot_type,\n",
    "    x=x,\n",
    "    y=y,\n",
    "    c='royalblue',\n",
    "    s=point_size\n",
    ")\n",
    "\n",
    "for i, txt in enumerate(sediment_data_processed.index):\n",
    "    x_loc = sediment_data_processed[x].iloc[i] + 0.01\n",
    "    y_loc = sediment_data_processed[y].iloc[i] + 0.01\n",
    "    axs.annotate(txt, (x_loc, y_loc), fontsize=10)\n",
    "\n",
    "plt.xlim([0,1.05])\n",
    "plt.ylim([0,1])\n",
    "\n",
    "axs.set_title('Zing Diagram', fontweight='bold', fontsize=25)\n",
    "axs.set_xlabel('S/I Flatness Ratio', fontsize=10, fontweight='bold')\n",
    "axs.set_ylabel('I/L Elongation Ratio', fontsize=10, fontweight='bold')\n",
    "\n",
    "plt.savefig('zing-diagram.jpeg',format='jpeg')"
   ]
  },
  {
   "cell_type": "code",
   "execution_count": null,
   "id": "certified-rogers",
   "metadata": {},
   "outputs": [],
   "source": []
  }
 ],
 "metadata": {
  "kernelspec": {
   "display_name": "Python 3",
   "language": "python",
   "name": "python3"
  },
  "language_info": {
   "codemirror_mode": {
    "name": "ipython",
    "version": 3
   },
   "file_extension": ".py",
   "mimetype": "text/x-python",
   "name": "python",
   "nbconvert_exporter": "python",
   "pygments_lexer": "ipython3",
   "version": "3.8.8"
  }
 },
 "nbformat": 4,
 "nbformat_minor": 5
}
